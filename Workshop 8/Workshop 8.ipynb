{
 "cells": [
  {
   "attachments": {},
   "cell_type": "markdown",
   "metadata": {},
   "source": [
    "# Workshop 8"
   ]
  },
  {
   "attachments": {},
   "cell_type": "markdown",
   "metadata": {},
   "source": [
    "# Today's plan \n",
    " - Peer Feedback \n",
    " - PS4\n",
    " - Data Project"
   ]
  },
  {
   "attachments": {},
   "cell_type": "markdown",
   "metadata": {},
   "source": [
    "# 1. Peer Feedback\n",
    "\n",
    "Follow guide `https://github.com/NumEconCopenhagen/IntroProg-lectures/blob/main/projects/PeerFeedbackGuide.pdf`\n",
    "\n",
    "Deadline at 4th of April - Spend MAX 90 minutes on feedback\n",
    "\n",
    "\n",
    "**Procedure:**\n",
    "\n",
    "1. Locate the repsective groups repo\n",
    "2. Clone and run their project in VSCode\n",
    "3. Open up an issue on their github project folder repo \n",
    "    - Fill in Feedback\n",
    "\n",
    "Remember the good tone! \n",
    "\n",
    "My Feedback will come ASAP"
   ]
  },
  {
   "attachments": {},
   "cell_type": "markdown",
   "metadata": {},
   "source": [
    "# 2. Problem set 4\n",
    "\n",
    "You're mainly gonna deal with data from an API-data-reader.  \n",
    "We're working in pandas and pydst.\n",
    "\n",
    "**Remember** to install Pydst in the terminal:\n",
    "`!pip install git+https://github.com/elben10/pydst`\n",
    "\n"
   ]
  },
  {
   "attachments": {},
   "cell_type": "markdown",
   "metadata": {},
   "source": [
    "# Data Project"
   ]
  },
  {
   "attachments": {},
   "cell_type": "markdown",
   "metadata": {},
   "source": [
    "Project description is already on Git.\n",
    "Deadline 16th of April.\n",
    "\n",
    "**Make a report that tells a story in numbers and graphs about an economic phenomenon or trend**\n",
    "\n",
    "- Find some subject of your choosing (in some economic context).\n",
    "- Use data from some online source (using API (show of skill) or through basic downloading)\n",
    "- Present data visually (interactively?) and in text (descriptive economics)\n",
    "\n",
    "\n",
    "**Topic Examples:**\n",
    "- Unemployment \n",
    "    - By Country\n",
    "    - By Occupation\n",
    "- Public spending\n",
    "- Financial Data\n",
    "\n",
    "**Data Sources**\n",
    "- pandas_datareader (mostly financial data) - See `Fetching_data` lecture\n",
    "- pydst everything you can find on dst.dk\n",
    "- List of API: https://apilist.fun/\n",
    "- List of API's: https://github.com/public-apis/public-apis\n",
    "- List of open data: https://github.com/collections/open-data\n",
    "- Google mobility data: https://www.google.com/covid19/mobility/\n",
    "- research data: https://datasetsearch.research.google.com/\n",
    "- Your job\n",
    "\n",
    "**What is an API?**\n",
    "An API is an interface through which we can directly ask for and receive data from an online source.\n",
    "\n",
    "For example when you use pydst, the API makes sure that your data-request reaches DST-servers and that DST-servers send readable data back as requested.\n",
    "\n",
    "An API is smart because you can automate tedious data-request (you would otherwise have done manually).\n",
    "Great for large amounts of data or when data is needed continuously (week after week/day after day)."
   ]
  },
  {
   "attachments": {},
   "cell_type": "markdown",
   "metadata": {},
   "source": [
    "1. We use `pandas_datareader` to access many common **international online data** sources (install with `pip install pandas-datareader`)\n",
    "2. For **Statistics Denmark**, Alessandro Martinello has written the `dstapi` package (install with `pip install git+https://github.com/alemartinello/dstapi`)"
   ]
  }
 ],
 "metadata": {
  "kernelspec": {
   "display_name": "base",
   "language": "python",
   "name": "python3"
  },
  "language_info": {
   "name": "python",
   "version": "3.9.12"
  },
  "orig_nbformat": 4,
  "vscode": {
   "interpreter": {
    "hash": "18308d1be7e0c10a2db6e7dc27429b51c0de5b5ed963bda49f7ea28424461493"
   }
  }
 },
 "nbformat": 4,
 "nbformat_minor": 2
}
