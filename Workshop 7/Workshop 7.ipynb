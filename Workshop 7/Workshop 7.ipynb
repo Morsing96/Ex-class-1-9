{
 "cells": [
  {
   "attachments": {},
   "cell_type": "markdown",
   "metadata": {},
   "source": [
    "# Workshop 7"
   ]
  },
  {
   "attachments": {},
   "cell_type": "markdown",
   "metadata": {},
   "source": [
    "# Today\n",
    "- Pandas\n",
    "- Inaugural Project"
   ]
  },
  {
   "attachments": {},
   "cell_type": "markdown",
   "metadata": {},
   "source": [
    "# Pandas\n",
    "\n",
    "- Spredsheets with features from numpy, matplotlib and much, much more."
   ]
  },
  {
   "cell_type": "code",
   "execution_count": null,
   "metadata": {},
   "outputs": [],
   "source": [
    "import numpy as np\n",
    "import pandas as pd"
   ]
  },
  {
   "cell_type": "code",
   "execution_count": null,
   "metadata": {},
   "outputs": [],
   "source": [
    "np.random.seed(666) #seed\n",
    "N = 1000 # number of rows\n",
    "female = np.random.binomial(1,p = .5, size=N)\n",
    "log_dist = (np.random.lognormal(size=N)) #log normal distribution\n",
    "data = {'income':  log_dist* 5, 'rent': log_dist*2, 'consumption': log_dist* 1.3, 'Female': female} # dict with some numbers\n",
    "df = pd.DataFrame(data) # defining the dataframe\n",
    "disp = 7 # number of rows to display\n",
    "df.head(disp)"
   ]
  },
  {
   "cell_type": "code",
   "execution_count": null,
   "metadata": {},
   "outputs": [],
   "source": [
    "df.tail(disp)\n"
   ]
  },
  {
   "attachments": {},
   "cell_type": "markdown",
   "metadata": {},
   "source": [
    "# Rown Indexing"
   ]
  },
  {
   "cell_type": "code",
   "execution_count": null,
   "metadata": {},
   "outputs": [],
   "source": [
    "I = df.income > 5 # index series of Bools\n",
    "df_highincome = df[I]\n",
    "print(f'The number of observations with income > 5 is: {df_highincome.shape[0]}')"
   ]
  },
  {
   "cell_type": "code",
   "execution_count": null,
   "metadata": {},
   "outputs": [],
   "source": [
    "IJ = (df.income > 5) & (df.rent < 10) # multible conditioned indexing\n",
    "df_multi_index = df[IJ]\n",
    "print(f'The number of observations with income > 5 and rent < 10 is: {df_multi_index.shape[0]}')"
   ]
  },
  {
   "attachments": {},
   "cell_type": "markdown",
   "metadata": {},
   "source": [
    "# Some features"
   ]
  },
  {
   "cell_type": "code",
   "execution_count": null,
   "metadata": {},
   "outputs": [],
   "source": [
    "df.describe() # describtive stats\n"
   ]
  },
  {
   "cell_type": "code",
   "execution_count": null,
   "metadata": {},
   "outputs": [],
   "source": [
    "df.size # number of rows times number of columns"
   ]
  },
  {
   "cell_type": "code",
   "execution_count": null,
   "metadata": {},
   "outputs": [],
   "source": [
    "df.values # dataframe to numpy array"
   ]
  },
  {
   "cell_type": "code",
   "execution_count": null,
   "metadata": {},
   "outputs": [],
   "source": [
    "df.Female.value_counts() # nice for categorical values\n"
   ]
  },
  {
   "cell_type": "code",
   "execution_count": null,
   "metadata": {},
   "outputs": [],
   "source": [
    "\n",
    "delta_df = df.sort_values('income', ascending=True, ignore_index = True) # sorting values, ascending smalles first, ignore index resets the index\n",
    "\n",
    "delta_df.pct_change().head() # pct_change"
   ]
  },
  {
   "cell_type": "code",
   "execution_count": null,
   "metadata": {},
   "outputs": [],
   "source": [
    "print(df.income.mean(), df.income.std())"
   ]
  },
  {
   "attachments": {},
   "cell_type": "markdown",
   "metadata": {},
   "source": [
    "# InauguralProject\n",
    "\n",
    "**Remember**\n",
    "- Document your code \n",
    "- Restart kernel er run all cells before hand in\n",
    "- Use markdown cells for explanations\n",
    "- Clean your folder such that only necessary items are in the folder. "
   ]
  }
 ],
 "metadata": {
  "kernelspec": {
   "display_name": "base",
   "language": "python",
   "name": "python3"
  },
  "language_info": {
   "codemirror_mode": {
    "name": "ipython",
    "version": 3
   },
   "file_extension": ".py",
   "mimetype": "text/x-python",
   "name": "python",
   "nbconvert_exporter": "python",
   "pygments_lexer": "ipython3",
   "version": "3.9.16"
  },
  "orig_nbformat": 4,
  "vscode": {
   "interpreter": {
    "hash": "18308d1be7e0c10a2db6e7dc27429b51c0de5b5ed963bda49f7ea28424461493"
   }
  }
 },
 "nbformat": 4,
 "nbformat_minor": 2
}
