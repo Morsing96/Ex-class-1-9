{
 "cells": [
  {
   "attachments": {},
   "cell_type": "markdown",
   "metadata": {},
   "source": [
    "# Workshop 2"
   ]
  },
  {
   "attachments": {},
   "cell_type": "markdown",
   "metadata": {},
   "source": [
    "## Today\n",
    "- Visual Code follow-up \n",
    "- Group Update\n",
    "- Your new friends on Stackoverflow\n",
    "- DataCamp"
   ]
  },
  {
   "attachments": {},
   "cell_type": "markdown",
   "metadata": {},
   "source": [
    "Test for credentials:\n",
    "In Anaconda (Windows) or terminal (Mac):\n",
    "git config --list check that username and email is correct.\n",
    "\n",
    "\n",
    "If not:\n",
    "git config --global user.name \"Morsing96\"\n",
    "\n",
    "\n",
    "and/or\n",
    "git config --global user.email jonasmorsing96@gmail.com"
   ]
  },
  {
   "attachments": {},
   "cell_type": "markdown",
   "metadata": {},
   "source": [
    "## DataCamp Courses\n",
    "### 1. Introduction to Data Science in Python  \n",
    "  - The atomic types: integers, floats, strings, booleans\n",
    "  - Lists\n",
    "  - Basic mathematical operators\n",
    "  - Using functions \n",
    "  - Numpy\n",
    "\n",
    "### 2. Intermediate Python \n",
    "  - Using Matplotlib\n",
    "  - Dictionatires\n",
    "  - Pandas DataFrame\n",
    "  - Creating Boolean tupes using conditions an if/elis/else-statements\n",
    "  - While- and for loops.\n",
    "  - RNG(random number generator) using numpy\n",
    "\n",
    "### 3. Python Data Science Toolbox (Part 1) \n",
    "  - Crating your own Python functions\n",
    "  - Tuples\n",
    "  - Preventative error handling\n",
    "  - DataFrame experience\n",
    "\n",
    "### 4. Python Data Science Toolbox (Part 2)\n",
    "  - Iterators and zip()-function\n",
    "  - List and dict comprehension\n",
    "  - Using open()-function to open files\n",
    "  - DataFrame experience\n",
    "\n",
    "  "
   ]
  },
  {
   "attachments": {},
   "cell_type": "markdown",
   "metadata": {},
   "source": [
    "Remember something"
   ]
  }
 ],
 "metadata": {
  "kernelspec": {
   "display_name": "base",
   "language": "python",
   "name": "python3"
  },
  "language_info": {
   "codemirror_mode": {
    "name": "ipython",
    "version": 3
   },
   "file_extension": ".py",
   "mimetype": "text/x-python",
   "name": "python",
   "nbconvert_exporter": "python",
   "pygments_lexer": "ipython3",
   "version": "3.9.12"
  },
  "orig_nbformat": 4,
  "vscode": {
   "interpreter": {
    "hash": "18308d1be7e0c10a2db6e7dc27429b51c0de5b5ed963bda49f7ea28424461493"
   }
  }
 },
 "nbformat": 4,
 "nbformat_minor": 2
}
