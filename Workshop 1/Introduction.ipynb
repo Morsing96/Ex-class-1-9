{
 "cells": [
  {
   "attachments": {},
   "cell_type": "markdown",
   "metadata": {},
   "source": [
    "# Welcome to Introduction to Programming and Numerical Analysis"
   ]
  },
  {
   "attachments": {},
   "cell_type": "markdown",
   "metadata": {},
   "source": [
    "## About me\n",
    "Name: Jonas Dieu Morsing\n",
    "\n",
    "Contact: nkp847@econ.ku.dk\n",
    "\n",
    "Material: https://github.com/Morsing96/Ex-class-1-9\n",
    "\n",
    "- Introduction to Programming and Numerical Analysis \n",
    "- Dynamic Programming - Theory, Computation, and Empirical Applications\n",
    "- Introduction to Social data science\n",
    "- Taught Microeconomics at CBS\n",
    "- 4th semester of the Master's degree\n",
    "\n",
    "\n"
   ]
  },
  {
   "attachments": {},
   "cell_type": "markdown",
   "metadata": {},
   "source": [
    "# Why \n",
    "\n",
    "- Valueable asset in the working world and your utility is increasing with your income\n",
    "- Great tools for your BA, Seminar and Master's thesis\n",
    "- Prepare for advanced Macro, Micro Economics, Household Behavior, Dynamic Programming and Social Data Sience course."
   ]
  },
  {
   "attachments": {},
   "cell_type": "markdown",
   "metadata": {},
   "source": [
    "# What\n",
    "\n",
    "- Analyze and model data \n",
    "- Create simulations\n",
    "- Interactive visualizations\n",
    "- much much more"
   ]
  },
  {
   "attachments": {},
   "cell_type": "markdown",
   "metadata": {},
   "source": [
    "# How\n",
    "- Workshops\n",
    "- Projects\n",
    "- Peer feedback"
   ]
  },
  {
   "attachments": {},
   "cell_type": "markdown",
   "metadata": {},
   "source": [
    "## The Exercise class/Workshops\n",
    "- Workshop based teaching\n",
    "- No stupid questions\n",
    "- If you have questions you want to discuess private, use E-mail\n",
    "- General question, use issues on github\n",
    "- Breaks "
   ]
  },
  {
   "attachments": {},
   "cell_type": "markdown",
   "metadata": {},
   "source": [
    "## Groups \n",
    "- Form groups as soon as possible\n",
    "- If you have no group "
   ]
  },
  {
   "attachments": {},
   "cell_type": "markdown",
   "metadata": {},
   "source": [
    "## Today\n",
    "- Installation\n",
    "- Intro to VS Code + Git\n",
    "- DataCamp"
   ]
  }
 ],
 "metadata": {
  "kernelspec": {
   "display_name": "Python 3",
   "language": "python",
   "name": "python3"
  },
  "language_info": {
   "name": "python",
   "version": "3.9.2"
  },
  "orig_nbformat": 4,
  "vscode": {
   "interpreter": {
    "hash": "916dbcbb3f70747c44a77c7bcd40155683ae19c65e1c03b4aa3499c5328201f1"
   }
  }
 },
 "nbformat": 4,
 "nbformat_minor": 2
}
