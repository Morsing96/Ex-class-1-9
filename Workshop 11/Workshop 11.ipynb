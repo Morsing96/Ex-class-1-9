{
 "cells": [
  {
   "attachments": {},
   "cell_type": "markdown",
   "metadata": {},
   "source": [
    "# Workshop 11"
   ]
  },
  {
   "attachments": {},
   "cell_type": "markdown",
   "metadata": {},
   "source": [
    "## Today\n",
    "\n",
    "- Data project\n",
    "- Working with linalg\n",
    "- PS6"
   ]
  },
  {
   "attachments": {},
   "cell_type": "markdown",
   "metadata": {},
   "source": [
    "## Dataproject\n",
    "Expect feedback before next exercise class.\n",
    "\n",
    "Remember peer-feedback before 23th of April"
   ]
  },
  {
   "attachments": {},
   "cell_type": "markdown",
   "metadata": {},
   "source": [
    "## linalg\n",
    "Linalg is one of scipy's submodules.  \n",
    "Can basically do anything with the realm of linear algebra:\n",
    "\n",
    "- Basic stuff: determinant, invert, norm\n",
    "- Matrix decompoitions\n",
    "- Solve a system og equations\n",
    "- Find eigenvalues\n",
    "\n",
    "### An example\n",
    "\n",
    "Solve for x in\n",
    "$$Ax=b$$"
   ]
  },
  {
   "cell_type": "code",
   "execution_count": 3,
   "metadata": {},
   "outputs": [
    {
     "name": "stdout",
     "output_type": "stream",
     "text": [
      "Matrix A:\n",
      "[[0.33224607 0.71427591 0.37834749 0.24908241 0.83598633]\n",
      " [0.02005845 0.32670359 0.05606653 0.4008206  0.13288711]\n",
      " [0.88711192 0.15490098 0.01708181 0.95781716 0.58999632]\n",
      " [0.83959058 0.7146372  0.58705537 0.40933648 0.14603168]\n",
      " [0.16407166 0.65717511 0.146494   0.67717016 0.47425348]]\n",
      "\n",
      "Matrix b:\n",
      " [0.78485347 0.85159023 0.84757586 0.42016935 0.20991113]\n"
     ]
    }
   ],
   "source": [
    "import numpy as np\n",
    "from scipy import linalg\n",
    "np.random.seed(1900)\n",
    "A = np.random.uniform(size=(5,5))\n",
    "b = np.random.uniform(size=5)\n",
    "print(f'Matrix A:\\n{A}\\n\\nMatrix b:\\n {b}')"
   ]
  },
  {
   "cell_type": "code",
   "execution_count": 4,
   "metadata": {},
   "outputs": [
    {
     "name": "stdout",
     "output_type": "stream",
     "text": [
      "[-15.33189031 -24.00998148  40.02675108  15.24193293   4.89008792]\n"
     ]
    }
   ],
   "source": [
    "# Solve using LU factorization -> \n",
    "# Split A in a lower, upper triangular matrix and a permutation matrix -> Speed\n",
    "# LU factorize A using linalg\n",
    "LU,piv = linalg.lu_factor(A)\n",
    "\n",
    "# Solve using linalg\n",
    "x = linalg.lu_solve((LU,piv),b)\n",
    "print(x)"
   ]
  },
  {
   "attachments": {},
   "cell_type": "markdown",
   "metadata": {},
   "source": [
    "This was used in the first question of the exam 2020 you had to implement the OLS estimator using linear algebra. "
   ]
  },
  {
   "attachments": {},
   "cell_type": "markdown",
   "metadata": {},
   "source": [
    "## SymPy/Symbolic Python\n",
    "\n",
    "`SymPy` is a Python library for symbolic mathematics and lets you solve equations analytically! (like WolframAlpha or Symbolab)\n",
    "\n",
    "Say that you want implement the utility function of standard OLG agent. We assume agents derive utility from consumption in both periods:\n",
    "\n",
    "$$U_t = u(c_{1t})+\\frac{1}{1+\\rho}u(c_{2t+1})$$\n"
   ]
  },
  {
   "cell_type": "code",
   "execution_count": 5,
   "metadata": {},
   "outputs": [
    {
     "data": {
      "text/latex": [
       "$\\displaystyle \\log{\\left(c_{1t} \\right)} + \\frac{\\log{\\left(c_{2t+1} \\right)}}{\\rho + 1}$"
      ],
      "text/plain": [
       "log(c_1t) + log(c_2t+1)/(rho + 1)"
      ]
     },
     "execution_count": 5,
     "metadata": {},
     "output_type": "execute_result"
    }
   ],
   "source": [
    "import sympy as sm\n",
    "# Initialize variabels in Sympy\n",
    "c1,c2 = sm.symbols('c_1t'), sm.symbols('c_2t+1')\n",
    "rho = sm.symbols('rho')\n",
    "\n",
    "# Setup utility in sympy\n",
    "uc1 = sm.ln(c1)\n",
    "uc2 = sm.ln(c2)\n",
    "U = uc1 + 1/(1+rho) * uc2\n",
    "U"
   ]
  },
  {
   "attachments": {},
   "cell_type": "markdown",
   "metadata": {},
   "source": [
    "With sympy we are able to do many calculations. Say that we need the derivate of U w.r.t $c_{2t+1}$"
   ]
  },
  {
   "cell_type": "code",
   "execution_count": 6,
   "metadata": {},
   "outputs": [
    {
     "data": {
      "text/latex": [
       "$\\displaystyle \\frac{1}{c_{2t+1} \\left(\\rho + 1\\right)}$"
      ],
      "text/plain": [
       "1/(c_2t+1*(rho + 1))"
      ]
     },
     "execution_count": 6,
     "metadata": {},
     "output_type": "execute_result"
    }
   ],
   "source": [
    "sm.diff(U,c2)"
   ]
  },
  {
   "attachments": {},
   "cell_type": "markdown",
   "metadata": {},
   "source": [
    "Another cool feature is that you can turn your SymPy equations into python functions. This can really tie your model projects together:\n",
    "- Solve model analytically with SymPy\n",
    "- Convert your solution to a python function e.g. the law-of-motion in OLG\n",
    "- Find steady state level of capital using an optimizer\n"
   ]
  },
  {
   "cell_type": "code",
   "execution_count": 4,
   "metadata": {},
   "outputs": [
    {
     "data": {
      "text/plain": [
       "3.836311550582437"
      ]
     },
     "execution_count": 4,
     "metadata": {},
     "output_type": "execute_result"
    }
   ],
   "source": [
    "# Use SymPy's lambdify method which takes an iterable of arguments in our case the consumptions and rho\n",
    "# and of course the function in our case U\n",
    "util = sm.lambdify((c1,c2,rho),U)\n",
    "\n",
    "# Compute some utility \n",
    "util(7,8,0.1)"
   ]
  }
 ],
 "metadata": {
  "kernelspec": {
   "display_name": "base",
   "language": "python",
   "name": "python3"
  },
  "language_info": {
   "codemirror_mode": {
    "name": "ipython",
    "version": 3
   },
   "file_extension": ".py",
   "mimetype": "text/x-python",
   "name": "python",
   "nbconvert_exporter": "python",
   "pygments_lexer": "ipython3",
   "version": "3.10.10"
  },
  "orig_nbformat": 4,
  "vscode": {
   "interpreter": {
    "hash": "18308d1be7e0c10a2db6e7dc27429b51c0de5b5ed963bda49f7ea28424461493"
   }
  }
 },
 "nbformat": 4,
 "nbformat_minor": 2
}
