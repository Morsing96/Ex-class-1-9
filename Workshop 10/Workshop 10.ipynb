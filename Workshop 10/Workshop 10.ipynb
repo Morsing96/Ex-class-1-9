{
 "cells": [
  {
   "attachments": {},
   "cell_type": "markdown",
   "metadata": {},
   "source": [
    "# Workshop 10"
   ]
  },
  {
   "attachments": {},
   "cell_type": "markdown",
   "metadata": {},
   "source": [
    "**Today's Plan**\n",
    "- Algorithms\n",
    "    - What is an algorithm anyway?\n",
    "    - Bisection search\n",
    "\n",
    "- PS5"
   ]
  },
  {
   "attachments": {},
   "cell_type": "markdown",
   "metadata": {},
   "source": [
    "**What is an algorithm anyway?**\n",
    "While algorithms can be complex, at the core they are quite simple. At its very simplest an algorithm is just a list of rules to follow in order to solve a problem. What have all of these in common?\n",
    "- Cooking recipe\n",
    "- Find the factorial of x\n",
    "- Finding the global maximum of a convex function\n",
    "- Navigating a self-driving car\n",
    "\n",
    "\n",
    "Complexity matters!\n",
    "Suppose we want to sort a dataset containing 500.000 rows.\n",
    "\n",
    "\n",
    "Sorting the dataset using the **bubble-sort algorithm** of complexity $O(n^2)$ means that $500.000^2 = 250.000.000.000$ operations is required. \n",
    "\n",
    "Sorting the dataset using `NumPy`s **quicksort algorithm** with complexity $O(\\cdot \\log(n))$ *only* requires $500.000 \\cdot \\log(500.000) \\approx 2.850.000$ operations "
   ]
  },
  {
   "attachments": {},
   "cell_type": "markdown",
   "metadata": {},
   "source": [
    "## Bisection Search\n"
   ]
  },
  {
   "attachments": {},
   "cell_type": "markdown",
   "metadata": {},
   "source": []
  },
  {
   "attachments": {},
   "cell_type": "markdown",
   "metadata": {},
   "source": [
    "## Problem set 5"
   ]
  },
  {
   "attachments": {},
   "cell_type": "markdown",
   "metadata": {},
   "source": [
    "- A1: \n",
    "    - for n in [1,2,3,4,5]:\n",
    "- A2:\n",
    "    - Help can be found in `Sorting` lecture\n",
    "- A3:\n",
    "    - Help can be found in `Searchind_and_recursion` lecture\n",
    "- A4:\n",
    "    - Help can be found in `non-linear equations` lecture\n",
    "- A5\n",
    "    - Watch this [video](https://www.youtube.com/watch?v=klcIklsWzrY) - can also be found in the Problem Set"
   ]
  }
 ],
 "metadata": {
  "kernelspec": {
   "display_name": "base",
   "language": "python",
   "name": "python3"
  },
  "language_info": {
   "name": "python",
   "version": "3.9.12"
  },
  "orig_nbformat": 4,
  "vscode": {
   "interpreter": {
    "hash": "18308d1be7e0c10a2db6e7dc27429b51c0de5b5ed963bda49f7ea28424461493"
   }
  }
 },
 "nbformat": 4,
 "nbformat_minor": 2
}
