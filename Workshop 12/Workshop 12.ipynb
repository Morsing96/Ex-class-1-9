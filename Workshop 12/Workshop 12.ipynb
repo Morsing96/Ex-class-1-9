{
 "cells": [
  {
   "attachments": {},
   "cell_type": "markdown",
   "metadata": {},
   "source": [
    "# Workshop 12"
   ]
  },
  {
   "attachments": {},
   "cell_type": "markdown",
   "metadata": {},
   "source": [
    "Remaining excercise class plan\n",
    "\n",
    "- Problem Set 7: Solving the consumer problem with income risk\n",
    "- Work on your model project\n",
    "- Work on your model project\n",
    "- Feedback on model project/Q&A"
   ]
  },
  {
   "attachments": {},
   "cell_type": "markdown",
   "metadata": {},
   "source": [
    "## Today\n",
    "- Unconstrained optimization\n",
    "- Constrained optimization\n",
    "- Dynamic optimization\n",
    "\n",
    "First part deals with evaluating different optimization methods under convex and non-convex (noisy) objective functions.\n",
    "Specifically you are going to deal with:\n",
    "\n",
    "- Nelder-mead (robust to noise in objective function)\n",
    "- BFGS and Newton-CG (quick and precise on smooth objective functions)\n",
    "\n",
    "The takeaway is that under a noisy objective function, which has local minimas, you are not guaranteed to converge to the global minimum. The initial guess has great importance and a multistart optimization could be appropriate.\n",
    "\n",
    "\n",
    "Second part deals with a dynamic model.\n",
    "In the exam of 2020, 2021, and 2022 you should solve a dynamic model.\n",
    "Hence, it is surely a good investment to solve the problem set and/or the previous exams"
   ]
  }
 ],
 "metadata": {
  "kernelspec": {
   "display_name": "base",
   "language": "python",
   "name": "python3"
  },
  "language_info": {
   "name": "python",
   "version": "3.9.12"
  },
  "orig_nbformat": 4,
  "vscode": {
   "interpreter": {
    "hash": "18308d1be7e0c10a2db6e7dc27429b51c0de5b5ed963bda49f7ea28424461493"
   }
  }
 },
 "nbformat": 4,
 "nbformat_minor": 2
}
