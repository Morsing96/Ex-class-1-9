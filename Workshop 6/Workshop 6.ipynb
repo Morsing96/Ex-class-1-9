{
 "cells": [
  {
   "attachments": {},
   "cell_type": "markdown",
   "metadata": {},
   "source": [
    "# Workshop 6"
   ]
  },
  {
   "attachments": {},
   "cell_type": "markdown",
   "metadata": {},
   "source": [
    "## Today\n",
    "\n",
    "1. Objectives\n",
    "2. Remember\n",
    "3. Formal requirements\n",
    "4. Hints"
   ]
  },
  {
   "attachments": {},
   "cell_type": "markdown",
   "metadata": {},
   "source": [
    "## Objectives\n",
    "\n",
    "* Apply numerical solution and simulation methods \n",
    "    * Solve the problem using SciPy and Numpy  \n",
    "* Structure a code project\n",
    "    * Notebook, -py.files, readme etc.  \n",
    "* Document code \n",
    "    * Expain code  \n",
    "* Present results in text form and figures.\n",
    "    * Create tables and figures  "
   ]
  },
  {
   "attachments": {},
   "cell_type": "markdown",
   "metadata": {},
   "source": [
    "## Remeber 1/4"
   ]
  },
  {
   "attachments": {},
   "cell_type": "markdown",
   "metadata": {},
   "source": [
    "Good idea to create py-file with your functions  \n",
    "**Remember** autoreload"
   ]
  },
  {
   "cell_type": "code",
   "execution_count": null,
   "metadata": {},
   "outputs": [],
   "source": [
    "import pyfile as py\n",
    "\n",
    "%load_ext autoreload\n",
    "%autoreload 2"
   ]
  },
  {
   "attachments": {},
   "cell_type": "markdown",
   "metadata": {},
   "source": [
    "## Remember 2/4\n",
    "Document the code - it is usefull at the exam"
   ]
  },
  {
   "cell_type": "code",
   "execution_count": null,
   "metadata": {},
   "outputs": [],
   "source": [
    "import numpy as np\n",
    "\n",
    "# 1. Initiliaze vectors of goods and container for utilities\n",
    "psis = np.linspace(-10, -5, 5)\n",
    "utility = np.empty((psis.shape)) # empty array with same shape as psi's\n",
    "\n",
    "# 2. Calculate utility for all psis (relative risk aversion parameter\n",
    "for i, psi in enumerate(psis):\n",
    "    # i. Calculate utility using functions module\n",
    "    u_psi = py.utility(1,psi)\n",
    "    \n",
    "    # ii. store the utility at the respective place (i)\n",
    "    utility[i] = u_psi\n",
    "    \n",
    "    # iii. print result\n",
    "    print(f'u(1,psi={psi:.2f})={u_psi:.2f}')"
   ]
  },
  {
   "attachments": {},
   "cell_type": "markdown",
   "metadata": {},
   "source": [
    "## Remember 3/4\n",
    "\n",
    "Incoporate markdown cells in your project that describes the model, intuition, etc.  \n",
    "Remember you do can do equation in markdown using either LaTeX syntax, `$$ math $$`:"
   ]
  },
  {
   "attachments": {},
   "cell_type": "markdown",
   "metadata": {},
   "source": [
    "$$ y_i = \\beta_0 + \\beta_1 x_i + \\epsilon_i $$\n",
    "\n"
   ]
  },
  {
   "attachments": {},
   "cell_type": "markdown",
   "metadata": {},
   "source": [
    "Or use `\\begin{equation} --- \\end{equation}`"
   ]
  },
  {
   "attachments": {},
   "cell_type": "markdown",
   "metadata": {},
   "source": [
    "\\begin{equation}\n",
    "y_i = \\beta_0 + + \\beta_1 x_i + \\epsilon_i \n",
    "\\end{equation}"
   ]
  },
  {
   "attachments": {},
   "cell_type": "markdown",
   "metadata": {},
   "source": [
    "- An indent followed by `*`, `-` or `1` creates a list\n",
    "    1. Item 1\n",
    "    2. Item 2\n",
    "    - Item 3\n",
    "- `**text**` creates a **bold text**\n",
    "- `*text*` creates *cursive text*\n",
    "- `#(##)` creates headers \n",
    "- Google/Stackoverflow is your best friend"
   ]
  },
  {
   "attachments": {},
   "cell_type": "markdown",
   "metadata": {},
   "source": [
    "## Remember 4/4\n",
    "\n",
    "**ALWAYS** restart your kernel and run all cells **before** handing in! This goes for the mandatory assignments along with the exam. It is crucial!\n",
    "\n",
    "If you have crucual old variables in memory that makes your notebook run, then i cannot run your notebook!!\n",
    "\n",
    "**Red flag** if the notebook can't be run from start to end!!"
   ]
  },
  {
   "attachments": {},
   "cell_type": "markdown",
   "metadata": {},
   "source": [
    "## Assignment"
   ]
  },
  {
   "attachments": {},
   "cell_type": "markdown",
   "metadata": {},
   "source": [
    "The code for the project can be found in  \n",
    "`IntroPrg-lectures -> projects -> HouseholdSpecializationModel.py`"
   ]
  },
  {
   "attachments": {},
   "cell_type": "markdown",
   "metadata": {},
   "source": [
    "## Hints"
   ]
  },
  {
   "attachments": {},
   "cell_type": "markdown",
   "metadata": {},
   "source": [
    "Change some code in `def calc_utility()`\n",
    "\n",
    "Use `if, elis, else`-statements"
   ]
  },
  {
   "cell_type": "code",
   "execution_count": null,
   "metadata": {},
   "outputs": [],
   "source": [
    "if parameter == x:\n",
    "    output = equation\n",
    "elif parater == y:\n",
    "    output = equation\n",
    "else:\n",
    "    output = equation"
   ]
  },
  {
   "attachments": {},
   "cell_type": "markdown",
   "metadata": {},
   "source": [
    "## Import and use the model"
   ]
  },
  {
   "cell_type": "code",
   "execution_count": null,
   "metadata": {},
   "outputs": [],
   "source": [
    "import numpy as np\n",
    "\n",
    "# autoreload modules when code is run. Otherwise, python will not see recent changes. \n",
    "%load_ext autoreload\n",
    "%autoreload 2\n",
    "\n",
    "# Import your own code\n",
    "import pyfile as model"
   ]
  },
  {
   "cell_type": "code",
   "execution_count": null,
   "metadata": {},
   "outputs": [],
   "source": [
    "model.utility(1,1)"
   ]
  },
  {
   "cell_type": "code",
   "execution_count": null,
   "metadata": {},
   "outputs": [],
   "source": [
    "dsol = hsm.solve_discrete()\n",
    "print(f'LM: {dsol.LM} for alpha and sigma: {hsm.par.alpha, hsm.par.sigma}')"
   ]
  },
  {
   "attachments": {},
   "cell_type": "markdown",
   "metadata": {},
   "source": [
    "## Example"
   ]
  },
  {
   "cell_type": "code",
   "execution_count": null,
   "metadata": {},
   "outputs": [],
   "source": [
    "from scipy import optimize\n",
    "def objective(x):\n",
    "    value = np.sin(x[0]) + 0.05*x[1]**2 + np.abs(x[0]-x[2])\n",
    "    return value\n",
    "\n",
    "obj = lambda x: - objective(x)\n",
    "constraints = ({'type': 'ineq', 'fun': lambda x: ( x[0]+x[1] - 10 ) and ( x[0] + x[2] - 10)})\n",
    "guess = [0]*3\n",
    "bounds = [(0,10)]*3\n",
    "# ii. optimizer\n",
    "result = optimize.minimize(obj,\n",
    "                            guess,\n",
    "                            method='SLSQP',\n",
    "                            bounds=bounds,\n",
    "                            constraints=constraints)"
   ]
  },
  {
   "cell_type": "code",
   "execution_count": null,
   "metadata": {},
   "outputs": [],
   "source": [
    "result"
   ]
  },
  {
   "cell_type": "markdown",
   "metadata": {},
   "source": [
    "## Help"
   ]
  },
  {
   "attachments": {},
   "cell_type": "markdown",
   "metadata": {},
   "source": [
    "- Lecture for constraint optimization\n",
    "- Class Structure"
   ]
  },
  {
   "attachments": {},
   "cell_type": "markdown",
   "metadata": {},
   "source": [
    "Example"
   ]
  }
 ],
 "metadata": {
  "kernelspec": {
   "display_name": "base",
   "language": "python",
   "name": "python3"
  },
  "language_info": {
   "codemirror_mode": {
    "name": "ipython",
    "version": 3
   },
   "file_extension": ".py",
   "mimetype": "text/x-python",
   "name": "python",
   "nbconvert_exporter": "python",
   "pygments_lexer": "ipython3",
   "version": "3.9.16"
  },
  "orig_nbformat": 4,
  "vscode": {
   "interpreter": {
    "hash": "18308d1be7e0c10a2db6e7dc27429b51c0de5b5ed963bda49f7ea28424461493"
   }
  }
 },
 "nbformat": 4,
 "nbformat_minor": 2
}
