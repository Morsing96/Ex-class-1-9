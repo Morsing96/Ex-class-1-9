{
 "cells": [
  {
   "attachments": {},
   "cell_type": "markdown",
   "metadata": {},
   "source": [
    "# Workshop 5"
   ]
  }
 ],
 "metadata": {
  "kernelspec": {
   "display_name": "base",
   "language": "python",
   "name": "python3"
  },
  "language_info": {
   "name": "python",
   "version": "3.9.12"
  },
  "orig_nbformat": 4,
  "vscode": {
   "interpreter": {
    "hash": "18308d1be7e0c10a2db6e7dc27429b51c0de5b5ed963bda49f7ea28424461493"
   }
  }
 },
 "nbformat": 4,
 "nbformat_minor": 2
}
