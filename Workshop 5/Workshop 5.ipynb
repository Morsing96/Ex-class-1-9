{
 "cells": [
  {
   "attachments": {},
   "cell_type": "markdown",
   "metadata": {},
   "source": [
    "\n",
    "# Workshop 5"
   ]
  },
  {
   "attachments": {},
   "cell_type": "markdown",
   "metadata": {},
   "source": [
    "Today:\n",
    "- Random Number Generator\n",
    "- Interactive Plots\n",
    "- Import module\n",
    "- Inaugural Project\n"
   ]
  },
  {
   "attachments": {},
   "cell_type": "markdown",
   "metadata": {},
   "source": [
    "## Random number generating\n",
    "-   You will work with 2 packages for RNG  \n",
    "    - `numpy` useful when drawing **heterogeneous preferences** following some distribution.E.g \n",
    "    - `alphas = np.random.normal(loc=mu,scale=sigma,size=N)`  \n",
    "    - Loads of help can be found in the lecture `Random_numbers_basics` (3.1, 3.2 and 3.3)\n",
    "\n",
    "\n",
    "*Note*: remember to set a seed for replicability, `np.random.seed(1986)`"
   ]
  },
  {
   "attachments": {},
   "cell_type": "markdown",
   "metadata": {},
   "source": [
    "## Interactive Plots"
   ]
  },
  {
   "attachments": {},
   "cell_type": "markdown",
   "metadata": {},
   "source": [
    "Great use in the coming Data Project\n",
    "\n",
    "Requirements:\n",
    "- Define figure as a **function** of inputs\n",
    "- Interactive figures are based on that function where you (interactable) **let inputs vary**  \n",
    "  The rest of the inputs (non-interactable) you need to define as **fixed**"
   ]
  },
  {
   "cell_type": "code",
   "execution_count": 6,
   "metadata": {},
   "outputs": [],
   "source": [
    "%matplotlib inline\n",
    "import matplotlib.pyplot as plt\n",
    "from scipy.stats import expon\n",
    "import numpy as np\n",
    "\n",
    "# 1 defining figure as function of inputs # This is how plot should look given the inputs\n",
    "def fitting_exponential(X_draws,beta_guess,legend=False):\n",
    "    \n",
    "    # i. exponential distribution based on beta guess\n",
    "    F = expon(scale = beta_guess) \n",
    "    \n",
    "    # ii. x-values\n",
    "    x_low = F.ppf(0.001) # returns the x of 0.1 percentile (x value where cdf is 0.001: ppf = inverse(cdf))\n",
    "    x_high = F.ppf(0.999) # returns the x of 99.9 percentile\n",
    "    x = np.linspace(x_low,x_high,100)\n",
    "\n",
    "    # iii. figure\n",
    "    fig = plt.figure(dpi=100) # dots-per-inch (think pixels)\n",
    "    ax = fig.add_subplot(1,1,1)\n",
    "    # plot based on beta_guess\n",
    "    ax.plot(x,F.pdf(x),lw=2, label = 'density of guess') # probability density function - call F to evaluate density at X\n",
    "    # histogram of actual drawn data\n",
    "    ax.hist(X_draws,bins=100,density=True,histtype='stepfilled', label = 'actual data')\n",
    "    ax.set_ylim([0,0.5])\n",
    "    ax.set_xlim([0.01,10])\n",
    "    if legend == True:\n",
    "        ax.legend()"
   ]
  },
  {
   "cell_type": "code",
   "execution_count": 7,
   "metadata": {},
   "outputs": [
    {
     "data": {
      "application/vnd.jupyter.widget-view+json": {
       "model_id": "5d94bdea73c240d8af8df107e1e73eea",
       "version_major": 2,
       "version_minor": 0
      },
      "text/plain": [
       "interactive(children=(FloatSlider(value=3.0, description='guess of beta', max=6.0, min=0.1, step=0.05), Checkb…"
      ]
     },
     "metadata": {},
     "output_type": "display_data"
    }
   ],
   "source": [
    "beta_true = 2\n",
    "# draw from exponential distribution based on true beta\n",
    "X = np.random.exponential(beta_true,size=10**6)\n",
    "\n",
    "import ipywidgets as widgets\n",
    "# create interactive figure based on plot-function\n",
    "widgets.interact(fitting_exponential,\n",
    "    X_draws=widgets.fixed(X),\n",
    "    beta_guess=widgets.FloatSlider(description=\"guess of beta\", min=0.1, max=6, step=0.05, value=3),\n",
    "    legend = widgets.Checkbox(False, description = 'legend')\n",
    ");"
   ]
  },
  {
   "attachments": {},
   "cell_type": "markdown",
   "metadata": {},
   "source": [
    "## Importing a file"
   ]
  },
  {
   "cell_type": "code",
   "execution_count": 1,
   "metadata": {},
   "outputs": [
    {
     "name": "stdout",
     "output_type": "stream",
     "text": [
      "This ran 10 times\n",
      "This ran 10 times\n",
      "This ran 10 times\n",
      "This ran 10 times\n",
      "This ran 10 times\n",
      "This ran 10 times\n",
      "This ran 10 times\n",
      "This ran 10 times\n",
      "This ran 10 times\n",
      "This ran 10 times\n"
     ]
    }
   ],
   "source": [
    "import pyfile\n",
    "pyfile.myfun(10)"
   ]
  },
  {
   "attachments": {},
   "cell_type": "markdown",
   "metadata": {},
   "source": [
    "## Inaugural Project"
   ]
  },
  {
   "attachments": {},
   "cell_type": "markdown",
   "metadata": {},
   "source": [
    "Has now been uploaded in **IntroProg-lectures**\n",
    "\n",
    "- `ctrl+shift+p`\n",
    "- Git: Pull\n",
    "- Pull Introprog-lectures\n",
    "\n",
    "In case you can not load the pdf go to extensions:\n",
    "- Download `csvode-pdf` extension"
   ]
  }
 ],
 "metadata": {
  "kernelspec": {
   "display_name": "base",
   "language": "python",
   "name": "python3"
  },
  "language_info": {
   "codemirror_mode": {
    "name": "ipython",
    "version": 3
   },
   "file_extension": ".py",
   "mimetype": "text/x-python",
   "name": "python",
   "nbconvert_exporter": "python",
   "pygments_lexer": "ipython3",
   "version": "3.9.16"
  },
  "orig_nbformat": 4,
  "vscode": {
   "interpreter": {
    "hash": "18308d1be7e0c10a2db6e7dc27429b51c0de5b5ed963bda49f7ea28424461493"
   }
  }
 },
 "nbformat": 4,
 "nbformat_minor": 2
}
